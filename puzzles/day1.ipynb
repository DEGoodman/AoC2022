{
 "cells": [
  {
   "cell_type": "code",
   "execution_count": 49,
   "id": "6a6e5b19",
   "metadata": {},
   "outputs": [
    {
     "name": "stdout",
     "output_type": "stream",
     "text": [
      "max: 69206\n",
      "threeSum: 197400\n"
     ]
    }
   ],
   "source": [
    "# Puzzle 1\n",
    "import os\n",
    "\n",
    "# For Puzzle 1 I elected to create a list of total calories for each elf,\n",
    "#  which I will compare at the end. It would be trivial to iterate and\n",
    "#  compare the totals, only keeping the greatest. I elected to take this \n",
    "#  approach instead as I suspect I will require more information in part 2\n",
    "\n",
    "# get current location to ease relative file retrieval\n",
    "\n",
    "NOTEBOOK_PATH = os.path.abspath(\"day1.ipynb\")\n",
    "\n",
    "# dict for each elf and the total Colories each is holding\n",
    "elfPack = []\n",
    "\n",
    "# running total of each Calorie per elf\n",
    "elfTotal = 0\n",
    "\n",
    "# Read in file\n",
    "FILEPATH = os.path.join(os.path.dirname(NOTEBOOK_PATH), \"../static/1/input.txt\")\n",
    "with open(FILEPATH) as file:\n",
    "    # check each line\n",
    "    while (line := file.readline()):\n",
    "        # If line is number, increment 'elfTotal'\n",
    "        if line != '\\n':\n",
    "            line = int(line)\n",
    "            elfTotal += line\n",
    "        else:\n",
    "            # append 'elfTotal' to 'elfPack' list and reset 'elfTotal' to 0\n",
    "            elfPack.append(elfTotal)\n",
    "            elfTotal = 0\n",
    "\n",
    "# reverse and sort the array to get the max element, and prep next puzzle\n",
    "elfPack.sort(reverse=True)\n",
    "print(\"max: \" + str(elfPack[0]))\n",
    "\n",
    "#-- End Puzzle 1 --#\n",
    "\n",
    "# Puzzle 2 requires the total of the top three calories. This is a simple continuation \n",
    "#  of the naive approach above\n",
    "\n",
    "# I'm not sure offhand why I'm getting a TypeError trying to do something like sum(elfPack[:3]),\n",
    "#  so we're doing it the hacky way\n",
    "threeTotal = 0\n",
    "for i in elfPack[:3]:\n",
    "    threeTotal += i\n",
    "print(\"threeSum: \" + str(threeTotal))"
   ]
  },
  {
   "cell_type": "code",
   "execution_count": null,
   "id": "20c36804",
   "metadata": {},
   "outputs": [],
   "source": []
  },
  {
   "cell_type": "code",
   "execution_count": null,
   "id": "1553316d",
   "metadata": {},
   "outputs": [],
   "source": []
  }
 ],
 "metadata": {
  "kernelspec": {
   "display_name": "Python 3 (ipykernel)",
   "language": "python",
   "name": "python3"
  },
  "language_info": {
   "codemirror_mode": {
    "name": "ipython",
    "version": 3
   },
   "file_extension": ".py",
   "mimetype": "text/x-python",
   "name": "python",
   "nbconvert_exporter": "python",
   "pygments_lexer": "ipython3",
   "version": "3.9.13"
  }
 },
 "nbformat": 4,
 "nbformat_minor": 5
}
