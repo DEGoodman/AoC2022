{
 "cells": [
  {
   "cell_type": "code",
   "execution_count": 1,
   "id": "d69f0269",
   "metadata": {},
   "outputs": [
    {
     "name": "stdout",
     "output_type": "stream",
     "text": [
      "total: 8123\n",
      "threes total: 2620\n"
     ]
    }
   ],
   "source": [
    "import os\n",
    "\n",
    "# get current location to ease relative file retrieval\n",
    "NOTEBOOK_PATH = os.path.abspath(\"day3.ipynb\")\n",
    "# FILEPATH = os.path.join(os.path.dirname(NOTEBOOK_PATH), \"../static/3/sample.txt\")\n",
    "FILEPATH = os.path.join(os.path.dirname(NOTEBOOK_PATH), \"../static/3/input.txt\")\n",
    "\n",
    "# Part one: Find the item type that appears in both compartments of each rucksack.\n",
    "\n",
    "rucksacks = []\n",
    "\n",
    "# Read in file\n",
    "with open(FILEPATH) as file:\n",
    "    # collect the rucksacks\n",
    "    rucksacks = file.read().splitlines()\n",
    "\n",
    "# All items of a given type are meant to go into exactly one of the two compartments\n",
    "# Every item type is identified by a single lowercase or uppercase letter \n",
    "#   (that is, a and A refer to different types of items).\n",
    "\n",
    "# the first half of the characters represent items in the first compartment, \n",
    "#    while the second half of the characters represent items in the second compartment.\n",
    "def findSameItem(line):\n",
    "    # split into two sets, one for each half\n",
    "    setA = set(line[:len(line)//2])\n",
    "    setB = set(line[len(line)//2:])\n",
    "    \n",
    "    # per instructions, there is only one common element per rucksack\n",
    "    return min(setA&setB)\n",
    "\n",
    "# To help prioritize item rearrangement, every item type can be converted to a *priority*\n",
    "#   Lowercase item types a through z have priorities 1 through 26.\n",
    "#   Uppercase item types A through Z have priorities 27 through 52.\n",
    "\n",
    "# note: The function ord() gets the int value of the char. see: https://www.asciitable.com\n",
    "# A->Z = 65->90; a->z = 97->122. Mapped, a->z is ord minus 96. A-Z is ord minus 38\n",
    "def priority(item):\n",
    "    if item.isupper():\n",
    "        return ord(item)-38\n",
    "    elif item.islower():\n",
    "        return ord(item)-96\n",
    "    # something went wrong\n",
    "    print(\"Error calculating priority, item is \" + item)\n",
    "    return 0\n",
    "\n",
    "# sum the priorities\n",
    "total = 0\n",
    "\n",
    "for line in rucksacks:\n",
    "    sameItem = findSameItem(line)\n",
    "    pVal = priority(sameItem)\n",
    "    total += pVal\n",
    "\n",
    "print(\"total: \" + str(total))\n",
    "\n",
    "\n",
    "\n",
    "# Part 2\n",
    "\n",
    "# For safety, the Elves are divided into *groups of three*. Every Elf carries a badge that identifies their group.\n",
    "# For efficiency, within each group of three Elves, the badge is the only item type carried by all three Elves. \n",
    "# Task:  *finding the one item type that is common between all three Elves in each group.*\n",
    "# Goal: Find the item type that corresponds to the badges of each three-Elf group. What is the sum of the priorities of those item types?\n",
    "\n",
    "# reset total\n",
    "total = 0\n",
    "\n",
    "\n",
    "def findSameInThree(group):\n",
    "    setA = set(group[0])\n",
    "    setB = set(group[1])\n",
    "    setC = set(group[2])\n",
    "    return min(setA&setB&setC)\n",
    "\n",
    "# step 1, split 'rucksacks' into groups of three\n",
    "threes = zip(*(iter(rucksacks),) * 3)\n",
    "# step 2: find commonalities across groups\n",
    "for group in threes:\n",
    "    item = findSameInThree(group)\n",
    "    # can reuse same priority function\n",
    "    newVal = priority(item)\n",
    "    total += newVal\n",
    "\n",
    "print(\"threes total: \" + str(total))"
   ]
  },
  {
   "cell_type": "code",
   "execution_count": null,
   "id": "f85ad845",
   "metadata": {},
   "outputs": [],
   "source": [
    "\n",
    "\n"
   ]
  }
 ],
 "metadata": {
  "kernelspec": {
   "display_name": "Python 3 (ipykernel)",
   "language": "python",
   "name": "python3"
  },
  "language_info": {
   "codemirror_mode": {
    "name": "ipython",
    "version": 3
   },
   "file_extension": ".py",
   "mimetype": "text/x-python",
   "name": "python",
   "nbconvert_exporter": "python",
   "pygments_lexer": "ipython3",
   "version": "3.9.13"
  }
 },
 "nbformat": 4,
 "nbformat_minor": 5
}
