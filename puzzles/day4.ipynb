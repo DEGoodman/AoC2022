{
 "cells": [
  {
   "cell_type": "code",
   "execution_count": 59,
   "id": "57dac5ef",
   "metadata": {},
   "outputs": [
    {
     "name": "stdout",
     "output_type": "stream",
     "text": [
      "[[2, 3, 4], [6, 7, 8]]\n",
      "[[2, 3], [4, 5]]\n",
      "[[5, 6, 7], [7, 8, 9]]\n",
      "[[2, 3, 4, 5, 6, 7, 8], [3, 4, 5, 6, 7]]\n",
      "encapsulation found: [2, 3, 4, 5, 6, 7, 8] and [3, 4, 5, 6, 7]\n",
      "[[6], [4, 5, 6]]\n",
      "encapsulation found: [6] and [4, 5, 6]\n",
      "[[2, 3, 4, 5, 6], [4, 5, 6, 7, 8]]\n",
      "state: {'assignmentPairs': ['2-4,6-8', '2-3,4-5', '5-7,7-9', '2-8,3-7', '6-6,4-6', '2-6,4-8'], 'overlaps': 2}\n"
     ]
    }
   ],
   "source": [
    "import os\n",
    "\n",
    "# get current location to ease relative file retrieval\n",
    "NOTEBOOK_PATH = os.path.abspath(\"day4.ipynb\")\n",
    "# FILEPATH = os.path.join(os.path.dirname(NOTEBOOK_PATH), \"../static/4/sample.txt\")\n",
    "FILEPATH = os.path.join(os.path.dirname(NOTEBOOK_PATH), \"../static/4/input.txt\")\n",
    "\n",
    "state = {\n",
    "    \"assignmentPairs\":[],\n",
    "    \"overlaps\": 0\n",
    "}\n",
    "\n",
    "\n",
    "# '2-4,6-8' -> [2,4],[6,8]\n",
    "def getSections(sections):\n",
    "    pairList = []\n",
    "    # 1. split into substrings by comma\n",
    "    ranges = sections.split(\",\")\n",
    "    \n",
    "    # 2. for each substring, split on '-' and turn into list\n",
    "    for r in ranges:\n",
    "        sectionList = [int(el) for el in r.split(\"-\")]\n",
    "        # turn range into list of all numbers\n",
    "        # a little fancy to account for ranges like '6-6'. Probably optimizable\n",
    "        pList = list(range(sectionList[0], sectionList[0]+(sectionList[1]-sectionList[0])+1))\n",
    "        pairList.append(pList)\n",
    "    print(pairList)\n",
    "    return pairList\n",
    "\n",
    "def checkEncap(secOne, secTwo):\n",
    "    # if one list fully encapsulates another, then the sets will be duplicated\n",
    "    # this means I can add the sets together, and if the resulting set is\n",
    "    # the same size as *either* original set, one is encapsulated by the other\n",
    "    union = set(secOne + secTwo)\n",
    "    if len(union) == len(secOne) or len(union) == len(secTwo):\n",
    "        print(\"encapsulation found: \" + str(secOne) + \" and \" + str(secTwo))\n",
    "        state['overlaps'] += 1\n",
    "    \n",
    "    \n",
    "\n",
    "# Read in file\n",
    "with open(FILEPATH) as file:\n",
    "    # collect the data\n",
    "    state['assignmentPairs'] = file.read().splitlines()\n",
    "\n",
    "        \n",
    "# split sections in text to get a list of section numbers for each elf\n",
    "for pair in state['assignmentPairs']:\n",
    "    pairSection = getSections(pair)\n",
    "    checkEncap(pairSection[0], pairSection[1])\n",
    "\n",
    "\n",
    "# determine if min and max for one elf is greater than min and max for other\n",
    "# (fully encapsulated)\n",
    "\n",
    "# In how many assignment pairs does one range fully contain the other?\n",
    "    \n",
    "    \n",
    "print(\"state: \" + str(state))"
   ]
  },
  {
   "cell_type": "code",
   "execution_count": null,
   "id": "5ad43147",
   "metadata": {},
   "outputs": [],
   "source": []
  }
 ],
 "metadata": {
  "kernelspec": {
   "display_name": "Python 3 (ipykernel)",
   "language": "python",
   "name": "python3"
  },
  "language_info": {
   "codemirror_mode": {
    "name": "ipython",
    "version": 3
   },
   "file_extension": ".py",
   "mimetype": "text/x-python",
   "name": "python",
   "nbconvert_exporter": "python",
   "pygments_lexer": "ipython3",
   "version": "3.9.13"
  }
 },
 "nbformat": 4,
 "nbformat_minor": 5
}
