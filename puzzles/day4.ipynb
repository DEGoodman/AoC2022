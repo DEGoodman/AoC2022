{
 "cells": [
  {
   "cell_type": "code",
   "execution_count": 71,
   "id": "041f98b1",
   "metadata": {},
   "outputs": [
    {
     "name": "stdout",
     "output_type": "stream",
     "text": [
      "encaps: 431\n",
      "overlaps: 823\n"
     ]
    }
   ],
   "source": [
    "import os\n",
    "\n",
    "# get current location to ease relative file retrieval\n",
    "NOTEBOOK_PATH = os.path.abspath(\"day4.ipynb\")\n",
    "# FILEPATH = os.path.join(os.path.dirname(NOTEBOOK_PATH), \"../static/4/sample.txt\")\n",
    "FILEPATH = os.path.join(os.path.dirname(NOTEBOOK_PATH), \"../static/4/input.txt\")\n",
    "\n",
    "state = {\n",
    "    \"assignmentPairs\":[],\n",
    "    \"encaps\": 0,\n",
    "    \"overlaps\": 0,\n",
    "}\n",
    "\n",
    "\n",
    "# '2-4,6-8' -> [2,4],[6,8]\n",
    "def getSections(sections):\n",
    "    pairList = []\n",
    "    # 1. split into substrings by comma\n",
    "    ranges = sections.split(\",\")\n",
    "    \n",
    "    # 2. for each substring, split on '-' and turn into list\n",
    "    for r in ranges:\n",
    "        sectionList = [int(el) for el in r.split(\"-\")]\n",
    "        # turn range into list of all numbers\n",
    "        # a little fancy to account for ranges like '6-6'. Probably optimizable\n",
    "        pList = list(range(sectionList[0], sectionList[0]+(sectionList[1]-sectionList[0])+1))\n",
    "        pairList.append(pList)\n",
    "    return pairList\n",
    "\n",
    "def checkEncap(secOne, secTwo):\n",
    "    # if one list fully encapsulates another, then the resulting set after unioning\n",
    "    # the lists together must be the same size as one of the original lists.\n",
    "    union = set(secOne + secTwo)\n",
    "    if len(union) == len(secOne) or len(union) == len(secTwo):\n",
    "        state['encaps'] += 1\n",
    "    \n",
    "def checkOverlap(secOne, secTwo):\n",
    "    # pretty straightforward, find if any vals from one section are in the other.\n",
    "    # there is a math-y enhancement to be made, but I don't want to optimize this yet\n",
    "    if len(list(set(secOne).intersection(set(secTwo)))) > 0:\n",
    "        state['overlaps'] += 1\n",
    "\n",
    "# Read in file\n",
    "with open(FILEPATH) as file:\n",
    "    # collect the data\n",
    "    state['assignmentPairs'] = file.read().splitlines()\n",
    "\n",
    "        \n",
    "# split sections in text to get a list of section numbers for each elf\n",
    "for pair in state['assignmentPairs']:\n",
    "    pairSection = getSections(pair)\n",
    "    # PART 1: find total encapsulations\n",
    "    checkEncap(pairSection[0], pairSection[1])\n",
    "    # PART 2: find any overlapping pairs\n",
    "    checkOverlap(pairSection[0], pairSection[1])\n",
    "\n",
    "    \n",
    "    \n",
    "print(\"encaps: \" + str(state['encaps']))\n",
    "print(\"overlaps: \" + str(state['overlaps']))"
   ]
  },
  {
   "cell_type": "code",
   "execution_count": null,
   "id": "79ac736f",
   "metadata": {},
   "outputs": [],
   "source": []
  }
 ],
 "metadata": {
  "kernelspec": {
   "display_name": "Python 3 (ipykernel)",
   "language": "python",
   "name": "python3"
  },
  "language_info": {
   "codemirror_mode": {
    "name": "ipython",
    "version": 3
   },
   "file_extension": ".py",
   "mimetype": "text/x-python",
   "name": "python",
   "nbconvert_exporter": "python",
   "pygments_lexer": "ipython3",
   "version": "3.9.13"
  }
 },
 "nbformat": 4,
 "nbformat_minor": 5
}
